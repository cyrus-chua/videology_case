{
 "cells": [
  {
   "cell_type": "code",
   "execution_count": 1,
   "metadata": {
    "collapsed": true
   },
   "outputs": [],
   "source": [
    "import csv"
   ]
  },
  {
   "cell_type": "code",
   "execution_count": 23,
   "metadata": {
    "collapsed": false
   },
   "outputs": [],
   "source": [
    "panelist_weight = {}\n",
    "with open('panelist_weight.csv', 'rb') as csvfile:\n",
    "    reader = csv.reader(csvfile)\n",
    "    for row in reader:\n",
    "        if row[0]!=\"Panelist\":\n",
    "            panelist_weight[row[0]]=row[1]"
   ]
  },
  {
   "cell_type": "code",
   "execution_count": 24,
   "metadata": {
    "collapsed": false
   },
   "outputs": [],
   "source": [
    "ad_spot_cost = {}\n",
    "with open('ad_spot_cost.csv', 'rb') as csvfile:\n",
    "    reader = csv.reader(csvfile)\n",
    "    for row in reader:\n",
    "        if row[0]!=\"Ad Spot\":\n",
    "            ad_spot_cost[row[0]]=row[1]"
   ]
  },
  {
   "cell_type": "code",
   "execution_count": 37,
   "metadata": {
    "collapsed": false
   },
   "outputs": [
    {
     "name": "stdout",
     "output_type": "stream",
     "text": [
      "{'24': ['J', 'C', 'N', 'M'], '25': ['E', 'N', 'X', 'U', 'Y', 'A', 'D', 'Z', 'J', 'G'], '20': ['O', 'Q', 'J', 'F', 'N', 'K'], '21': ['Q', 'M', 'O', 'K', 'A', 'P', 'N', 'B'], '22': ['D', 'R', 'E', 'F', 'S', 'B', 'M'], '23': ['L', 'O', 'A', 'F', 'D', 'G', 'H'], '1': ['P', 'G', 'M', 'C'], '3': ['M', 'O', 'P', 'S', 'E'], '2': ['S', 'L', 'N', 'V', 'E', 'T', 'C'], '5': ['S', 'T', 'N', 'D', 'L', 'J', 'Q', 'P'], '4': ['G', 'A', 'T', 'H', 'U', 'M', 'O'], '7': ['Q', 'E', 'N', 'V', 'A', 'B'], '6': ['V', 'N', 'H', 'E', 'Q', 'A', 'C', 'I'], '9': ['I', 'K', 'J', 'B', 'C'], '8': ['R', 'H', 'N'], '11': ['I', 'G', 'F', 'E'], '10': ['Z', 'M', 'R', 'F', 'D', 'I', 'L', 'U', 'H'], '13': ['I', 'E', 'A', 'M'], '12': ['K', 'V', 'M', 'O', 'D', 'T', 'W', 'Y'], '15': ['O', 'M', 'F', 'U', 'P', 'I', 'E'], '14': ['I', 'G', 'P', 'T', 'V'], '17': ['Z', 'A', 'K', 'O', 'F', 'T', 'U', 'Y', 'E', 'N'], '16': ['L', 'K', 'H', 'D'], '19': ['G', 'C', 'V', 'E', 'H', 'A', 'J'], '18': ['K', 'B', 'F', 'H']}\n"
     ]
    }
   ],
   "source": [
    "panelist_views_per_ad = {}\n",
    "with open('viewership.csv', 'rb') as csvfile:\n",
    "    reader = csv.reader(csvfile)\n",
    "    for row in reader:\n",
    "        if row[0] != \"Ad Spot\":\n",
    "            temp = []\n",
    "            for x in range(1,len(row)):\n",
    "                if row[x]!=\"\":\n",
    "                    if row[x] not in temp:\n",
    "                        temp.append(row[x])\n",
    "            panelist_views_per_ad[row[0]]=temp\n",
    "print panelist_views_per_ad"
   ]
  },
  {
   "cell_type": "code",
   "execution_count": 39,
   "metadata": {
    "collapsed": false
   },
   "outputs": [
    {
     "name": "stdout",
     "output_type": "stream",
     "text": [
      "{'24': 8860, '25': 21060, '20': 12300, '21': 15640, '22': 14680, '23': 14150, '1': 8010, '3': 10030, '2': 14680, '5': 17230, '4': 14360, '7': 11540, '6': 16070, '9': 9710, '8': 6790, '11': 7690, '10': 19900, '13': 8150, '12': 17230, '15': 14170, '14': 10070, '17': 20800, '16': 8510, '19': 14050, '18': 8010}\n"
     ]
    }
   ],
   "source": [
    "total_reach_per_ad = {}\n",
    "for ad in ad_spot_cost:\n",
    "    panelists = panelist_views_per_ad[ad]\n",
    "    total_weight = 0\n",
    "    for p in panelists:\n",
    "        weight = panelist_weight[p]\n",
    "        total_weight+=int(weight)\n",
    "    total_reach_per_ad[ad]=total_weight\n",
    "print total_reach_per_ad"
   ]
  },
  {
   "cell_type": "code",
   "execution_count": 40,
   "metadata": {
    "collapsed": false
   },
   "outputs": [
    {
     "name": "stdout",
     "output_type": "stream",
     "text": [
      "{'24': 0.0007584650112866817, '25': 0.0008072174738841405, '20': 0.0008341463414634146, '21': 0.0009360613810741688, '22': 0.0007772479564032697, '23': 0.0008805653710247351, '1': 0.0008789013732833958, '3': 0.000777666999002991, '2': 0.0007963215258855585, '5': 0.000807893209518282, '4': 0.0009554317548746519, '7': 0.000779896013864818, '6': 0.0009060360920970753, '9': 0.0009114315139031926, '8': 0.0008041237113402062, '11': 0.0009206762028608583, '10': 0.0008909547738693468, '13': 0.000750920245398773, '12': 0.0009007544979686593, '15': 0.0009880028228652082, '14': 0.0007696127110228401, '17': 0.0008557692307692308, '16': 0.0008225616921269095, '19': 0.000891814946619217, '18': 0.0008389513108614232}\n"
     ]
    }
   ],
   "source": [
    "ad_cost_per_impression = {}\n",
    "for ad in ad_spot_cost:\n",
    "    cost_per_impression = float(ad_spot_cost[ad]) / int(total_reach_per_ad[ad])\n",
    "    ad_cost_per_impression[ad] = cost_per_impression\n",
    "print ad_cost_per_impression"
   ]
  },
  {
   "cell_type": "code",
   "execution_count": 41,
   "metadata": {
    "collapsed": true
   },
   "outputs": [],
   "source": [
    "ads = []\n",
    "costs = []\n",
    "for x in ad_cost_per_impression:\n",
    "    ads.append(x)\n",
    "    costs.append(ad_cost_per_impression[x])"
   ]
  },
  {
   "cell_type": "code",
   "execution_count": 42,
   "metadata": {
    "collapsed": false
   },
   "outputs": [
    {
     "name": "stdout",
     "output_type": "stream",
     "text": [
      "['24', '25', '20', '21', '22', '23', '1', '3', '2', '5', '4', '7', '6', '9', '8', '11', '10', '13', '12', '15', '14', '17', '16', '19', '18'] [0.0007584650112866817, 0.0008072174738841405, 0.0008341463414634146, 0.0009360613810741688, 0.0007772479564032697, 0.0008805653710247351, 0.0008789013732833958, 0.000777666999002991, 0.0007963215258855585, 0.000807893209518282, 0.0009554317548746519, 0.000779896013864818, 0.0009060360920970753, 0.0009114315139031926, 0.0008041237113402062, 0.0009206762028608583, 0.0008909547738693468, 0.000750920245398773, 0.0009007544979686593, 0.0009880028228652082, 0.0007696127110228401, 0.0008557692307692308, 0.0008225616921269095, 0.000891814946619217, 0.0008389513108614232]\n"
     ]
    }
   ],
   "source": [
    "print ads, costs"
   ]
  },
  {
   "cell_type": "code",
   "execution_count": 43,
   "metadata": {
    "collapsed": false
   },
   "outputs": [],
   "source": [
    "ads_sorted = [x for (y,x) in sorted(zip(costs, ads))]"
   ]
  },
  {
   "cell_type": "code",
   "execution_count": 55,
   "metadata": {
    "collapsed": false
   },
   "outputs": [
    {
     "name": "stdout",
     "output_type": "stream",
     "text": [
      "43504.0\n"
     ]
    }
   ],
   "source": [
    "total_reach = 0\n",
    "for x in panelist_weight:\n",
    "    total_reach += int(panelist_weight[x])\n",
    "required_reach = 0.8 * total_reach\n",
    "print required_reach"
   ]
  },
  {
   "cell_type": "code",
   "execution_count": 56,
   "metadata": {
    "collapsed": false
   },
   "outputs": [],
   "source": [
    "total_cost = 0\n",
    "curr_reach = 0\n",
    "picked_ads = []\n",
    "for x in ads:\n",
    "    total_cost += float(ad_spot_cost[x])\n",
    "    curr_reach += float(total_reach_per_ad[x])\n",
    "    picked_ads.append(x)\n",
    "    if curr_reach >= required_reach:\n",
    "        break"
   ]
  },
  {
   "cell_type": "code",
   "execution_count": 54,
   "metadata": {
    "collapsed": false
   },
   "outputs": [
    {
     "data": {
      "text/plain": [
       "(48.62, 57860.0)"
      ]
     },
     "execution_count": 54,
     "metadata": {},
     "output_type": "execute_result"
    }
   ],
   "source": [
    "total_cost, curr_reach"
   ]
  },
  {
   "cell_type": "code",
   "execution_count": 57,
   "metadata": {
    "collapsed": false
   },
   "outputs": [
    {
     "data": {
      "text/plain": [
       "['24', '25', '20', '21']"
      ]
     },
     "execution_count": 57,
     "metadata": {},
     "output_type": "execute_result"
    }
   ],
   "source": [
    "picked_ads"
   ]
  },
  {
   "cell_type": "code",
   "execution_count": null,
   "metadata": {
    "collapsed": true
   },
   "outputs": [],
   "source": []
  }
 ],
 "metadata": {
  "kernelspec": {
   "display_name": "Python [Root]",
   "language": "python",
   "name": "Python [Root]"
  },
  "language_info": {
   "codemirror_mode": {
    "name": "ipython",
    "version": 2
   },
   "file_extension": ".py",
   "mimetype": "text/x-python",
   "name": "python",
   "nbconvert_exporter": "python",
   "pygments_lexer": "ipython2",
   "version": "2.7.12"
  }
 },
 "nbformat": 4,
 "nbformat_minor": 0
}
